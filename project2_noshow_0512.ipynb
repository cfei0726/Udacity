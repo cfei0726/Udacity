{
 "cells": [
  {
   "cell_type": "markdown",
   "metadata": {},
   "source": [
    "> **Tip**: Welcome to the Investigate a Dataset project! You will find tips in quoted sections like this to help organize your approach to your investigation. Before submitting your project, it will be a good idea to go back through your report and remove these sections to make the presentation of your work as tidy as possible. First things first, you might want to double-click this Markdown cell and change the title so that it reflects your dataset and investigation.\n",
    "\n",
    "# Project: Investigate a Dataset (Replace this with something more specific!)\n",
    "\n",
    "## Table of Contents\n",
    "<ul>\n",
    "<li><a href=\"#intro\">Introduction</a></li>\n",
    "<li><a href=\"#wrangling\">Data Wrangling</a></li>\n",
    "<li><a href=\"#eda\">Exploratory Data Analysis</a></li>\n",
    "<li><a href=\"#conclusions\">Conclusions</a></li>\n",
    "</ul>"
   ]
  },
  {
   "cell_type": "markdown",
   "metadata": {},
   "source": [
    "<a id='intro'></a>\n",
    "## Introduction\n",
    "\n",
    "> **Tip**: In this section of the report, provide a brief introduction to the dataset you've selected for analysis. At the end of this section, describe the questions that you plan on exploring over the course of the report. Try to build your report around the analysis of at least one dependent variable and three independent variables.\n",
    ">\n",
    "> If you haven't yet selected and downloaded your data, make sure you do that first before coming back here. If you're not sure what questions to ask right now, then make sure you familiarize yourself with the variables and the dataset context for ideas of what to explore."
   ]
  },
  {
   "cell_type": "code",
   "execution_count": 1,
   "metadata": {},
   "outputs": [],
   "source": [
    "# Use this cell to set up import statements for all of the packages that you\n",
    "#   plan to use.\n",
    "import numpy as np\n",
    "import pandas as pd\n",
    "import matplotlib.pyplot as plt\n",
    "import seaborn as sns\n",
    "%matplotlib inline\n",
    "\n",
    "# Remember to include a 'magic word' so that your visualizations are plotted\n",
    "#   inline with the notebook. See this page for more:\n",
    "#   http://ipython.readthedocs.io/en/stable/interactive/magics.html\n"
   ]
  },
  {
   "cell_type": "markdown",
   "metadata": {},
   "source": [
    "<a id='wrangling'></a>\n",
    "## Data Wrangling\n",
    "\n",
    "> **Tip**: In this section of the report, you will load in the data, check for cleanliness, and then trim and clean your dataset for analysis. Make sure that you document your steps carefully and justify your cleaning decisions.\n",
    "\n",
    "### General Properties"
   ]
  },
  {
   "cell_type": "code",
   "execution_count": 2,
   "metadata": {},
   "outputs": [
    {
     "data": {
      "text/html": [
       "<div>\n",
       "<style scoped>\n",
       "    .dataframe tbody tr th:only-of-type {\n",
       "        vertical-align: middle;\n",
       "    }\n",
       "\n",
       "    .dataframe tbody tr th {\n",
       "        vertical-align: top;\n",
       "    }\n",
       "\n",
       "    .dataframe thead th {\n",
       "        text-align: right;\n",
       "    }\n",
       "</style>\n",
       "<table border=\"1\" class=\"dataframe\">\n",
       "  <thead>\n",
       "    <tr style=\"text-align: right;\">\n",
       "      <th></th>\n",
       "      <th>PatientId</th>\n",
       "      <th>AppointmentID</th>\n",
       "      <th>Gender</th>\n",
       "      <th>ScheduledDay</th>\n",
       "      <th>AppointmentDay</th>\n",
       "      <th>Age</th>\n",
       "      <th>Neighbourhood</th>\n",
       "      <th>Scholarship</th>\n",
       "      <th>Hipertension</th>\n",
       "      <th>Diabetes</th>\n",
       "      <th>Alcoholism</th>\n",
       "      <th>Handcap</th>\n",
       "      <th>SMS_received</th>\n",
       "      <th>No-show</th>\n",
       "    </tr>\n",
       "  </thead>\n",
       "  <tbody>\n",
       "    <tr>\n",
       "      <th>0</th>\n",
       "      <td>2.987250e+13</td>\n",
       "      <td>5642903</td>\n",
       "      <td>F</td>\n",
       "      <td>2016-04-29T18:38:08Z</td>\n",
       "      <td>2016-04-29T00:00:00Z</td>\n",
       "      <td>62</td>\n",
       "      <td>JARDIM DA PENHA</td>\n",
       "      <td>0</td>\n",
       "      <td>1</td>\n",
       "      <td>0</td>\n",
       "      <td>0</td>\n",
       "      <td>0</td>\n",
       "      <td>0</td>\n",
       "      <td>No</td>\n",
       "    </tr>\n",
       "    <tr>\n",
       "      <th>1</th>\n",
       "      <td>5.589978e+14</td>\n",
       "      <td>5642503</td>\n",
       "      <td>M</td>\n",
       "      <td>2016-04-29T16:08:27Z</td>\n",
       "      <td>2016-04-29T00:00:00Z</td>\n",
       "      <td>56</td>\n",
       "      <td>JARDIM DA PENHA</td>\n",
       "      <td>0</td>\n",
       "      <td>0</td>\n",
       "      <td>0</td>\n",
       "      <td>0</td>\n",
       "      <td>0</td>\n",
       "      <td>0</td>\n",
       "      <td>No</td>\n",
       "    </tr>\n",
       "    <tr>\n",
       "      <th>2</th>\n",
       "      <td>4.262962e+12</td>\n",
       "      <td>5642549</td>\n",
       "      <td>F</td>\n",
       "      <td>2016-04-29T16:19:04Z</td>\n",
       "      <td>2016-04-29T00:00:00Z</td>\n",
       "      <td>62</td>\n",
       "      <td>MATA DA PRAIA</td>\n",
       "      <td>0</td>\n",
       "      <td>0</td>\n",
       "      <td>0</td>\n",
       "      <td>0</td>\n",
       "      <td>0</td>\n",
       "      <td>0</td>\n",
       "      <td>No</td>\n",
       "    </tr>\n",
       "  </tbody>\n",
       "</table>\n",
       "</div>"
      ],
      "text/plain": [
       "      PatientId  AppointmentID Gender          ScheduledDay  \\\n",
       "0  2.987250e+13        5642903      F  2016-04-29T18:38:08Z   \n",
       "1  5.589978e+14        5642503      M  2016-04-29T16:08:27Z   \n",
       "2  4.262962e+12        5642549      F  2016-04-29T16:19:04Z   \n",
       "\n",
       "         AppointmentDay  Age    Neighbourhood  Scholarship  Hipertension  \\\n",
       "0  2016-04-29T00:00:00Z   62  JARDIM DA PENHA            0             1   \n",
       "1  2016-04-29T00:00:00Z   56  JARDIM DA PENHA            0             0   \n",
       "2  2016-04-29T00:00:00Z   62    MATA DA PRAIA            0             0   \n",
       "\n",
       "   Diabetes  Alcoholism  Handcap  SMS_received No-show  \n",
       "0         0           0        0             0      No  \n",
       "1         0           0        0             0      No  \n",
       "2         0           0        0             0      No  "
      ]
     },
     "execution_count": 2,
     "metadata": {},
     "output_type": "execute_result"
    }
   ],
   "source": [
    "# Load your data and print out a few lines. Perform operations to inspect data\n",
    "#   types and look for instances of missing or possibly errant data.\n",
    "df_noshow = pd.read_csv('noshowappointments.csv')\n",
    "df_noshow.head(3)"
   ]
  },
  {
   "cell_type": "code",
   "execution_count": 3,
   "metadata": {},
   "outputs": [
    {
     "name": "stdout",
     "output_type": "stream",
     "text": [
      "<class 'pandas.core.frame.DataFrame'>\n",
      "RangeIndex: 110527 entries, 0 to 110526\n",
      "Data columns (total 14 columns):\n",
      " #   Column          Non-Null Count   Dtype  \n",
      "---  ------          --------------   -----  \n",
      " 0   PatientId       110527 non-null  float64\n",
      " 1   AppointmentID   110527 non-null  int64  \n",
      " 2   Gender          110527 non-null  object \n",
      " 3   ScheduledDay    110527 non-null  object \n",
      " 4   AppointmentDay  110527 non-null  object \n",
      " 5   Age             110527 non-null  int64  \n",
      " 6   Neighbourhood   110527 non-null  object \n",
      " 7   Scholarship     110527 non-null  int64  \n",
      " 8   Hipertension    110527 non-null  int64  \n",
      " 9   Diabetes        110527 non-null  int64  \n",
      " 10  Alcoholism      110527 non-null  int64  \n",
      " 11  Handcap         110527 non-null  int64  \n",
      " 12  SMS_received    110527 non-null  int64  \n",
      " 13  No-show         110527 non-null  object \n",
      "dtypes: float64(1), int64(8), object(5)\n",
      "memory usage: 11.8+ MB\n"
     ]
    }
   ],
   "source": [
    "## inspect data typs and column lable\n",
    "df_noshow.info()"
   ]
  },
  {
   "cell_type": "code",
   "execution_count": 4,
   "metadata": {
    "scrolled": false
   },
   "outputs": [
    {
     "name": "stdout",
     "output_type": "stream",
     "text": [
      "Number of Null value: 0\n"
     ]
    }
   ],
   "source": [
    "# check any missing value or null value\n",
    "print('Number of Null value: {}'.format(np.sum(df_noshow.isnull().sum())))"
   ]
  },
  {
   "cell_type": "code",
   "execution_count": 5,
   "metadata": {},
   "outputs": [
    {
     "name": "stdout",
     "output_type": "stream",
     "text": [
      "Index(['patientid', 'appointmentid', 'gender', 'scheduledday',\n",
      "       'appointmentday', 'age', 'neighbourhood', 'scholarship', 'hipertension',\n",
      "       'diabetes', 'alcoholism', 'handcap', 'sms_received', 'no-show'],\n",
      "      dtype='object')\n"
     ]
    }
   ],
   "source": [
    "## lowercase column lable for easier operation\n",
    "df_noshow.columns = map(str.lower, df_noshow.columns)\n",
    "print(df_noshow.columns)"
   ]
  },
  {
   "cell_type": "code",
   "execution_count": 6,
   "metadata": {},
   "outputs": [],
   "source": [
    "# rename column lable\n",
    "df_noshow.rename(columns= {'no-show':'no_show'},inplace=True)\n"
   ]
  },
  {
   "cell_type": "code",
   "execution_count": 7,
   "metadata": {},
   "outputs": [
    {
     "name": "stdout",
     "output_type": "stream",
     "text": [
      "<class 'pandas.core.frame.DataFrame'>\n",
      "RangeIndex: 110527 entries, 0 to 110526\n",
      "Data columns (total 14 columns):\n",
      " #   Column          Non-Null Count   Dtype              \n",
      "---  ------          --------------   -----              \n",
      " 0   patientid       110527 non-null  object             \n",
      " 1   appointmentid   110527 non-null  object             \n",
      " 2   gender          110527 non-null  object             \n",
      " 3   scheduledday    110527 non-null  datetime64[ns, UTC]\n",
      " 4   appointmentday  110527 non-null  datetime64[ns, UTC]\n",
      " 5   age             110527 non-null  int64              \n",
      " 6   neighbourhood   110527 non-null  object             \n",
      " 7   scholarship     110527 non-null  int64              \n",
      " 8   hipertension    110527 non-null  int64              \n",
      " 9   diabetes        110527 non-null  int64              \n",
      " 10  alcoholism      110527 non-null  int64              \n",
      " 11  handcap         110527 non-null  int64              \n",
      " 12  sms_received    110527 non-null  int64              \n",
      " 13  no_show         110527 non-null  object             \n",
      "dtypes: datetime64[ns, UTC](2), int64(7), object(5)\n",
      "memory usage: 11.8+ MB\n"
     ]
    }
   ],
   "source": [
    "# assign proper data type for each column \n",
    "df_noshow.patientid = df_noshow.patientid.astype(str)\n",
    "df_noshow.appointmentid = df_noshow.appointmentid.astype(str)\n",
    "df_noshow.appointmentday = pd.to_datetime(df_noshow.appointmentday)\n",
    "df_noshow.scheduledday = pd.to_datetime(df_noshow.scheduledday)\n",
    "df_noshow.info()"
   ]
  },
  {
   "cell_type": "code",
   "execution_count": 8,
   "metadata": {
    "scrolled": false
   },
   "outputs": [
    {
     "name": "stdout",
     "output_type": "stream",
     "text": [
      "female_counts = 71840 and male_counts = 38687 \n",
      "total = 110527\n"
     ]
    }
   ],
   "source": [
    "# check data integrity of 'gender'\n",
    "gender_counts = df_noshow['gender'].value_counts();\n",
    "female_counts = gender_counts['F']\n",
    "male_counts = gender_counts['M']\n",
    "print('female_counts = {} '\n",
    "      'and male_counts = {} \\n'\n",
    "      'total = {}'.format(female_counts,male_counts,np.sum(gender_counts)))\n"
   ]
  },
  {
   "cell_type": "code",
   "execution_count": 9,
   "metadata": {},
   "outputs": [],
   "source": [
    "# check data integrity of 'scheduledday' vs 'appointmentday'\n",
    "df_noshow.loc[df_noshow.appointmentday < df_noshow.scheduledday,('scheduledday','appointmentday')];"
   ]
  },
  {
   "cell_type": "code",
   "execution_count": 10,
   "metadata": {},
   "outputs": [
    {
     "name": "stdout",
     "output_type": "stream",
     "text": [
      "-1       1\n",
      " 0    3539\n",
      " 1    2273\n",
      " 2    1618\n",
      " 3    1513\n",
      "Name: age, dtype: int64\n",
      "1\n",
      "3539\n"
     ]
    },
    {
     "data": {
      "text/plain": [
       " 0    3539\n",
       "-1       1\n",
       "Name: age, dtype: int64"
      ]
     },
     "execution_count": 10,
     "metadata": {},
     "output_type": "execute_result"
    }
   ],
   "source": [
    "# check data integrity of 'age'\n",
    "age_counts = df_noshow['age'].value_counts()\n",
    "age_counts = age_counts.sort_index()\n",
    "print(age_counts.head())\n",
    "print(age_counts.loc[-1])\n",
    "print(age_counts.loc[0])\n",
    "age_counts.loc[[0,-1]]  ## use list to slice data"
   ]
  },
  {
   "cell_type": "code",
   "execution_count": 11,
   "metadata": {},
   "outputs": [
    {
     "name": "stdout",
     "output_type": "stream",
     "text": [
      "JARDIM CAMBURI                 7717\n",
      "MARIA ORTIZ                    5805\n",
      "RESISTÊNCIA                    4431\n",
      "JARDIM DA PENHA                3877\n",
      "ITARARÉ                        3514\n",
      "                               ... \n",
      "ILHA DO BOI                      35\n",
      "ILHA DO FRADE                    10\n",
      "AEROPORTO                         8\n",
      "ILHAS OCEÂNICAS DE TRINDADE       2\n",
      "PARQUE INDUSTRIAL                 1\n",
      "Name: neighbourhood, Length: 81, dtype: int64\n"
     ]
    }
   ],
   "source": [
    "# check data integrity of 'neighbourhood'\n",
    "neibhood_counts = df_noshow['neighbourhood'].value_counts()\n",
    "print(neibhood_counts)"
   ]
  },
  {
   "cell_type": "code",
   "execution_count": 12,
   "metadata": {},
   "outputs": [
    {
     "name": "stdout",
     "output_type": "stream",
     "text": [
      "0    99666\n",
      "1    10861\n",
      "Name: scholarship, dtype: int64\n",
      "No_Sub_counts = 99666 and Yes_Sub_counts = 10861 \n",
      "total_subsidies = 110527\n"
     ]
    }
   ],
   "source": [
    "# check data integrity of 'scholarship', 0 means No subsidies\n",
    "scholar_counts = df_noshow['scholarship'].value_counts()\n",
    "print(scholar_counts)\n",
    "no_sub_counts = scholar_counts[0]\n",
    "yes_sub_counts = scholar_counts[1]\n",
    "print('No_Sub_counts = {} '\n",
    "      'and Yes_Sub_counts = {} \\n'\n",
    "      'total_subsidies = {}'.format(no_sub_counts,yes_sub_counts,np.sum(scholar_counts)))"
   ]
  },
  {
   "cell_type": "code",
   "execution_count": 13,
   "metadata": {},
   "outputs": [
    {
     "name": "stdout",
     "output_type": "stream",
     "text": [
      "0    88726\n",
      "1    21801\n",
      "Name: hipertension, dtype: int64\n",
      "No_Hipertension_counts = 88726 and Yes_Hipertension_counts = 21801 \n",
      "total_Hipertension = 110527\n"
     ]
    }
   ],
   "source": [
    "# check data integrity of 'hipertension', 0 means No Hipertension\n",
    "hiper_counts = df_noshow['hipertension'].value_counts()\n",
    "print(hiper_counts)\n",
    "no_hiper_counts = hiper_counts[0]\n",
    "yes_hiper_counts = hiper_counts[1]\n",
    "print('No_Hipertension_counts = {} '\n",
    "      'and Yes_Hipertension_counts = {} \\n'\n",
    "      'total_Hipertension = {}'.format(no_hiper_counts,yes_hiper_counts,np.sum(hiper_counts)))"
   ]
  },
  {
   "cell_type": "code",
   "execution_count": 14,
   "metadata": {},
   "outputs": [
    {
     "name": "stdout",
     "output_type": "stream",
     "text": [
      "0    102584\n",
      "1      7943\n",
      "Name: diabetes, dtype: int64\n",
      "No_diabetes_counts = 102584 and Yes_diabetes_counts = 7943 \n",
      "total_diabetes = 110527\n"
     ]
    }
   ],
   "source": [
    "# check data integrity of 'diabetes', 0 means No diabetes\n",
    "diabe_counts = df_noshow['diabetes'].value_counts()\n",
    "print(diabe_counts)\n",
    "no_diabe_counts = diabe_counts[0]\n",
    "yes_diabe_counts = diabe_counts[1]\n",
    "print('No_diabetes_counts = {} '\n",
    "      'and Yes_diabetes_counts = {} \\n'\n",
    "      'total_diabetes = {}'.format(no_diabe_counts,yes_diabe_counts,np.sum(diabe_counts)))"
   ]
  },
  {
   "cell_type": "code",
   "execution_count": 15,
   "metadata": {},
   "outputs": [
    {
     "name": "stdout",
     "output_type": "stream",
     "text": [
      "0    107167\n",
      "1      3360\n",
      "Name: alcoholism, dtype: int64\n",
      "No_alcoholism_counts = 107167 and Yes_alcoholism_counts = 3360 \n",
      "total_alcoholism = 110527\n"
     ]
    }
   ],
   "source": [
    "# check data integrity of 'alcoholism', 0 means No alcoholism\n",
    "alcoh_counts = df_noshow['alcoholism'].value_counts()\n",
    "print(alcoh_counts)\n",
    "no_alcoh_counts = alcoh_counts[0]\n",
    "yes_alcoh_counts = alcoh_counts[1]\n",
    "print('No_alcoholism_counts = {} '\n",
    "      'and Yes_alcoholism_counts = {} \\n'\n",
    "      'total_alcoholism = {}'.format(no_alcoh_counts,yes_alcoh_counts,np.sum(alcoh_counts)))"
   ]
  },
  {
   "cell_type": "code",
   "execution_count": 16,
   "metadata": {},
   "outputs": [
    {
     "name": "stdout",
     "output_type": "stream",
     "text": [
      "0    108286\n",
      "1      2042\n",
      "2       183\n",
      "3        13\n",
      "4         3\n",
      "Name: handcap, dtype: int64\n"
     ]
    }
   ],
   "source": [
    "# check data integrity of 'handcap', \n",
    "handcap_counts = df_noshow['handcap'].value_counts()\n",
    "print(handcap_counts)\n",
    "## check with mentor/forum"
   ]
  },
  {
   "cell_type": "code",
   "execution_count": 17,
   "metadata": {},
   "outputs": [
    {
     "name": "stdout",
     "output_type": "stream",
     "text": [
      "0    75045\n",
      "1    35482\n",
      "Name: sms_received, dtype: int64\n",
      "No_sms_counts = 75045 and Yes_sms_counts = 35482 \n",
      "total_sms = 110527\n"
     ]
    }
   ],
   "source": [
    "# check data integrity of 'sms_received', \n",
    "sms_counts = df_noshow['sms_received'].value_counts()\n",
    "print(sms_counts)\n",
    "no_sms_counts = sms_counts[0]\n",
    "yes_sms_counts = sms_counts[1]\n",
    "print('No_sms_counts = {} '\n",
    "      'and Yes_sms_counts = {} \\n'\n",
    "      'total_sms = {}'.format(no_sms_counts,yes_sms_counts,np.sum(sms_counts)))"
   ]
  },
  {
   "cell_type": "code",
   "execution_count": 18,
   "metadata": {},
   "outputs": [
    {
     "name": "stdout",
     "output_type": "stream",
     "text": [
      "No     88208\n",
      "Yes    22319\n",
      "Name: no_show, dtype: int64\n",
      "No_show_counts = 22319 and Yes_show_counts = 88208 \n",
      "total_show = 110527\n"
     ]
    }
   ],
   "source": [
    "# check data integrity of 'no_show', \n",
    "show_counts = df_noshow['no_show'].value_counts()\n",
    "print(show_counts)\n",
    "no_show_counts = show_counts['Yes'] ## yes means No Show\n",
    "yes_show_counts = show_counts['No']\n",
    "print('No_show_counts = {} '\n",
    "      'and Yes_show_counts = {} \\n'\n",
    "      'total_show = {}'.format(no_show_counts,yes_show_counts,np.sum(show_counts)))"
   ]
  },
  {
   "cell_type": "code",
   "execution_count": null,
   "metadata": {},
   "outputs": [],
   "source": []
  },
  {
   "cell_type": "code",
   "execution_count": null,
   "metadata": {},
   "outputs": [],
   "source": []
  },
  {
   "cell_type": "code",
   "execution_count": null,
   "metadata": {},
   "outputs": [],
   "source": []
  },
  {
   "cell_type": "code",
   "execution_count": null,
   "metadata": {},
   "outputs": [],
   "source": []
  },
  {
   "cell_type": "code",
   "execution_count": null,
   "metadata": {},
   "outputs": [],
   "source": []
  },
  {
   "cell_type": "code",
   "execution_count": null,
   "metadata": {},
   "outputs": [],
   "source": []
  },
  {
   "cell_type": "code",
   "execution_count": null,
   "metadata": {},
   "outputs": [],
   "source": []
  },
  {
   "cell_type": "markdown",
   "metadata": {},
   "source": [
    "> **Tip**: You should _not_ perform too many operations in each cell. Create cells freely to explore your data. One option that you can take with this project is to do a lot of explorations in an initial notebook. These don't have to be organized, but make sure you use enough comments to understand the purpose of each code cell. Then, after you're done with your analysis, create a duplicate notebook where you will trim the excess and organize your steps so that you have a flowing, cohesive report.\n",
    "\n",
    "> **Tip**: Make sure that you keep your reader informed on the steps that you are taking in your investigation. Follow every code cell, or every set of related code cells, with a markdown cell to describe to the reader what was found in the preceding cell(s). Try to make it so that the reader can then understand what they will be seeing in the following cell(s).\n",
    "\n",
    "### Data Cleaning (Replace this with more specific notes!)"
   ]
  },
  {
   "cell_type": "code",
   "execution_count": 19,
   "metadata": {},
   "outputs": [],
   "source": [
    "# After discussing the structure of the data and any problems that need to be\n",
    "#   cleaned, perform those cleaning steps in the second part of this section.\n",
    "\n",
    "df_noshow_clean = df_noshow.copy()"
   ]
  },
  {
   "cell_type": "code",
   "execution_count": 20,
   "metadata": {},
   "outputs": [],
   "source": [
    "## drop age = [-1,0]\n",
    "drop_age_index = df_noshow_clean[df_noshow_clean['age'].isin([-1,0])].index\n",
    "#print(drop_age_index)\n",
    "df_noshow_clean.drop(index=drop_age_index,inplace=True)"
   ]
  },
  {
   "cell_type": "code",
   "execution_count": 21,
   "metadata": {},
   "outputs": [
    {
     "data": {
      "text/plain": [
       "0         No\n",
       "1         No\n",
       "2         No\n",
       "3         No\n",
       "4         No\n",
       "          ..\n",
       "110522    No\n",
       "110523    No\n",
       "110524    No\n",
       "110525    No\n",
       "110526    No\n",
       "Name: no_show, Length: 106987, dtype: object"
      ]
     },
     "execution_count": 21,
     "metadata": {},
     "output_type": "execute_result"
    }
   ],
   "source": [
    "df_noshow_clean['no_show']"
   ]
  },
  {
   "cell_type": "code",
   "execution_count": 22,
   "metadata": {
    "scrolled": true
   },
   "outputs": [
    {
     "name": "stdout",
     "output_type": "stream",
     "text": [
      "<class 'pandas.core.frame.DataFrame'>\n",
      "Int64Index: 106987 entries, 0 to 110526\n",
      "Data columns (total 14 columns):\n",
      " #   Column          Non-Null Count   Dtype              \n",
      "---  ------          --------------   -----              \n",
      " 0   patientid       106987 non-null  object             \n",
      " 1   appointmentid   106987 non-null  object             \n",
      " 2   gender          106987 non-null  object             \n",
      " 3   scheduledday    106987 non-null  datetime64[ns, UTC]\n",
      " 4   appointmentday  106987 non-null  datetime64[ns, UTC]\n",
      " 5   age             106987 non-null  int64              \n",
      " 6   neighbourhood   106987 non-null  object             \n",
      " 7   scholarship     106987 non-null  int64              \n",
      " 8   hipertension    106987 non-null  int64              \n",
      " 9   diabetes        106987 non-null  int64              \n",
      " 10  alcoholism      106987 non-null  int64              \n",
      " 11  handcap         106987 non-null  int64              \n",
      " 12  sms_received    106987 non-null  int64              \n",
      " 13  no_show         106987 non-null  object             \n",
      "dtypes: datetime64[ns, UTC](2), int64(7), object(5)\n",
      "memory usage: 12.2+ MB\n"
     ]
    }
   ],
   "source": [
    "df_noshow_clean.info()"
   ]
  },
  {
   "cell_type": "markdown",
   "metadata": {},
   "source": [
    "> **\n",
    "> **Tip**: You should _not_ perform too many operations in each cell. Create cells freely to explore your data. One option that you can take with this project is to do a lot of explorations in an initial notebook. These don't have to be organized, but make sure you use enough comments to understand the purpose of each code cell. Then, after you're done with your analysis, create a duplicate notebook where you will trim the excess and organize your steps so that you have a flowing, cohesive report.\n",
    "\n",
    "> **Tip**: Make sure that you keep your reader informed on the steps that you are taking in your investigation. Follow every code cell, or every set of related code cells, with a markdown cell to describe to the reader what was found in the preceding cell(s). Try to make it so that the reader can then understand what they will be seeing in the following cell(s)."
   ]
  },
  {
   "cell_type": "markdown",
   "metadata": {},
   "source": [
    "<a id='eda'></a>\n",
    "## Exploratory Data Analysis\n",
    "\n",
    "> **Tip**: Now that you've trimmed and cleaned your data, you're ready to move on to exploration. Compute statistics and create visualizations with the goal of addressing the research questions that you posed in the Introduction section. It is recommended that you be systematic with your approach. Look at one variable at a time, and then follow it up by looking at relationships between variables.\n",
    "\n",
    "### Research Question 1 : What factors are relevant to predict if patient will not show up for scheduled appointment?"
   ]
  },
  {
   "cell_type": "markdown",
   "metadata": {},
   "source": [
    "> **Gender**: "
   ]
  },
  {
   "cell_type": "code",
   "execution_count": 160,
   "metadata": {},
   "outputs": [
    {
     "name": "stdout",
     "output_type": "stream",
     "text": [
      "0.20264144241823773\n"
     ]
    }
   ],
   "source": [
    "total_record=df_noshow_clean.shape[0]\n",
    "no_show_mean = df_noshow_clean['no_show'].value_counts()/total_record\n",
    "no_show_yes_mean = no_show_mean['Yes']\n",
    "print(no_show_yes_mean)"
   ]
  },
  {
   "cell_type": "code",
   "execution_count": null,
   "metadata": {},
   "outputs": [],
   "source": []
  },
  {
   "cell_type": "code",
   "execution_count": null,
   "metadata": {},
   "outputs": [],
   "source": []
  },
  {
   "cell_type": "code",
   "execution_count": null,
   "metadata": {},
   "outputs": [],
   "source": []
  },
  {
   "cell_type": "code",
   "execution_count": 163,
   "metadata": {},
   "outputs": [
    {
     "name": "stdout",
     "output_type": "stream",
     "text": [
      "gender  no_show\n",
      "F       No         55843\n",
      "        Yes        14275\n",
      "M       No         29464\n",
      "        Yes         7405\n",
      "Name: no_show, dtype: int64\n",
      "no_show\n",
      "No     0.796415\n",
      "Yes    0.203585\n",
      "Name: no_show, dtype: float64\n",
      "no_show\n",
      "No     0.799154\n",
      "Yes    0.200846\n",
      "Name: no_show, dtype: float64\n"
     ]
    }
   ],
   "source": [
    "gender_gpo = df_noshow_clean.groupby(['gender','no_show'])['no_show'].count()\n",
    "print(gender_gpo)\n",
    "gender_gpo_female=gender_gpo['F']\n",
    "gender_gpo_male=gender_gpo['M']\n",
    "print(gender_gpo_female/np.sum(gender_gpo_female))\n",
    "print(gender_gpo_male/np.sum(gender_gpo_male))\n"
   ]
  },
  {
   "cell_type": "code",
   "execution_count": null,
   "metadata": {},
   "outputs": [],
   "source": []
  },
  {
   "cell_type": "code",
   "execution_count": 164,
   "metadata": {},
   "outputs": [
    {
     "name": "stdout",
     "output_type": "stream",
     "text": [
      "scholarship  no_show\n",
      "0            No         77069\n",
      "             Yes        19109\n",
      "1            No          8238\n",
      "             Yes         2571\n",
      "Name: no_show, dtype: int64\n",
      "no_show\n",
      "No     0.801316\n",
      "Yes    0.198684\n",
      "Name: no_show, dtype: float64\n",
      "no_show\n",
      "No     0.762143\n",
      "Yes    0.237857\n",
      "Name: no_show, dtype: float64\n"
     ]
    }
   ],
   "source": [
    "scholarship_gpo = df_noshow_clean.groupby(['scholarship','no_show'])['no_show'].count()\n",
    "print(scholarship_gpo)\n",
    "\n",
    "sch_gpo_0=scholarship_gpo[0]\n",
    "sch_gpo_1=scholarship_gpo[1]\n",
    "print(sch_gpo_0/np.sum(sch_gpo_0))### higher yes_show\n",
    "print(sch_gpo_1/np.sum(sch_gpo_1))### higher no_show\n",
    "\n",
    "\n",
    "#scholarship_gpo['Yes'].plot.bar();"
   ]
  },
  {
   "cell_type": "code",
   "execution_count": 137,
   "metadata": {},
   "outputs": [
    {
     "name": "stdout",
     "output_type": "stream",
     "text": [
      "hipertension  no_show\n",
      "0             No         67278\n",
      "              Yes        17908\n",
      "1             No         18029\n",
      "              Yes         3772\n",
      "Name: no_show, dtype: int64\n",
      "no_show\n",
      "No     0.789778\n",
      "Yes    0.210222\n",
      "Name: no_show, dtype: float64\n",
      "no_show\n",
      "No     0.82698\n",
      "Yes    0.17302\n",
      "Name: no_show, dtype: float64\n"
     ]
    }
   ],
   "source": [
    "hipertension_gpo = df_noshow_clean.groupby(['hipertension','no_show'])['no_show'].count()\n",
    "print(hipertension_gpo)\n",
    "\n",
    "hiper_gpo_0=hipertension_gpo[0]\n",
    "hiper_gpo_1=hipertension_gpo[1]\n",
    "print(hiper_gpo_0/np.sum(hiper_gpo_0))\n",
    "print(hiper_gpo_1/np.sum(hiper_gpo_1))## lower no_show\n",
    "\n",
    "#hipertension_gpo['Yes'].plot.bar();"
   ]
  },
  {
   "cell_type": "code",
   "execution_count": null,
   "metadata": {},
   "outputs": [],
   "source": []
  },
  {
   "cell_type": "code",
   "execution_count": null,
   "metadata": {},
   "outputs": [],
   "source": []
  },
  {
   "cell_type": "code",
   "execution_count": 26,
   "metadata": {},
   "outputs": [
    {
     "name": "stdout",
     "output_type": "stream",
     "text": [
      "diabetes  no_show\n",
      "0         No         78794\n",
      "          Yes        20250\n",
      "1         No          6513\n",
      "          Yes         1430\n",
      "Name: no_show, dtype: int64\n",
      "no_show\n",
      "No     0.795545\n",
      "Yes    0.204455\n",
      "Name: no_show, dtype: float64\n",
      "no_show\n",
      "No     0.819967\n",
      "Yes    0.180033\n",
      "Name: no_show, dtype: float64\n"
     ]
    }
   ],
   "source": [
    "diabetes_gpo = df_noshow_clean.groupby(['diabetes','no_show'])['no_show'].count()\n",
    "print(diabetes_gpo)\n",
    "\n",
    "diab_gpo_0=diabetes_gpo[0]\n",
    "diab_gpo_1=diabetes_gpo[1]\n",
    "print(diab_gpo_0/np.sum(diab_gpo_0)) ## higher no_show\n",
    "print(diab_gpo_1/np.sum(diab_gpo_1))## ## lower no_show\n",
    "\n",
    "#diabetes_gpo['Yes'].plot.bar();"
   ]
  },
  {
   "cell_type": "code",
   "execution_count": 28,
   "metadata": {},
   "outputs": [
    {
     "name": "stdout",
     "output_type": "stream",
     "text": [
      "sms_received  no_show\n",
      "0             No         60290\n",
      "              Yes        12112\n",
      "1             No         25017\n",
      "              Yes         9568\n",
      "Name: no_show, dtype: int64\n",
      "no_show\n",
      "No     0.832712\n",
      "Yes    0.167288\n",
      "Name: no_show, dtype: float64\n",
      "no_show\n",
      "No     0.723348\n",
      "Yes    0.276652\n",
      "Name: no_show, dtype: float64\n"
     ]
    }
   ],
   "source": [
    "sms_gpo = df_noshow_clean.groupby(['sms_received','no_show',])['no_show'].count()\n",
    "print(sms_gpo)\n",
    "\n",
    "sms_gpo_0=sms_gpo[0]\n",
    "sms_gpo_1=sms_gpo[1]\n",
    "print(sms_gpo_0/np.sum(sms_gpo_0)) ## lower no_show\n",
    "print(sms_gpo_1/np.sum(sms_gpo_1))## ## higher no_show\n",
    "\n",
    "#sms_gpo[1].plot.bar();##no significant finding"
   ]
  },
  {
   "cell_type": "code",
   "execution_count": 69,
   "metadata": {
    "scrolled": true
   },
   "outputs": [],
   "source": [
    "df_noshow_clean['age_class']=pd.cut(df_noshow_clean['age'],bins=[0,20,40,60,120],labels=['0-20','20-40','40-60','>60'])"
   ]
  },
  {
   "cell_type": "code",
   "execution_count": 80,
   "metadata": {},
   "outputs": [
    {
     "name": "stdout",
     "output_type": "stream",
     "text": [
      "age_class  no_show\n",
      "0-20       No         21852\n",
      "           Yes         6457\n",
      "20-40      No         22209\n",
      "           Yes         6626\n",
      "40-60      No         24490\n",
      "           Yes         5591\n",
      ">60        No         16756\n",
      "           Yes         3006\n",
      "Name: no_show, dtype: int64\n"
     ]
    }
   ],
   "source": [
    "age_class_gpo = df_noshow_clean.groupby(['age_class','no_show'])['no_show'].count()\n",
    "print(age_class_gpo)"
   ]
  },
  {
   "cell_type": "code",
   "execution_count": 103,
   "metadata": {},
   "outputs": [],
   "source": [
    "age_class_no_show=[]\n",
    "age_class_no_show.append(age_class_gpo[('0-20','Yes')]/age_class_gpo['0-20'].sum())\n",
    "age_class_no_show.append(age_class_gpo[('20-40','Yes')]/age_class_gpo['20-40'].sum())\n",
    "age_class_no_show.append(age_class_gpo[('40-60','Yes')]/age_class_gpo['40-60'].sum())\n",
    "age_class_no_show.append(age_class_gpo[('>60','Yes')]/age_class_gpo['>60'].sum())\n"
   ]
  },
  {
   "cell_type": "code",
   "execution_count": 102,
   "metadata": {
    "scrolled": true
   },
   "outputs": [
    {
     "data": {
      "image/png": "[encoded data removed]",
      "text/plain": [
       "<Figure size 432x288 with 1 Axes>"
      ]
     },
     "metadata": {
      "needs_background": "light"
     },
     "output_type": "display_data"
    }
   ],
   "source": [
    "# Create a bar chart with proper labels\n",
    "locations = [1, 2,3,4]\n",
    "heights = age_class_no_show\n",
    "labels = ['0-20','20-40','40-60','>60']\n",
    "plt.bar(locations, heights, tick_label=labels)\n",
    "plt.title('Age Class by No_show rate')\n",
    "plt.xlabel('Age Class')\n",
    "plt.ylabel('No_show rate');\n"
   ]
  },
  {
   "cell_type": "code",
   "execution_count": 126,
   "metadata": {},
   "outputs": [
    {
     "data": {
      "text/plain": [
       "<matplotlib.axes._subplots.AxesSubplot at 0x1f30090b9c8>"
      ]
     },
     "execution_count": 126,
     "metadata": {},
     "output_type": "execute_result"
    },
    {
     "data": {
      "image/png": "[encoded data removed]",
      "text/plain": [
       "<Figure size 432x288 with 1 Axes>"
      ]
     },
     "metadata": {
      "needs_background": "light"
     },
     "output_type": "display_data"
    }
   ],
   "source": [
    "age_class_gpo.plot(kind='bar')"
   ]
  },
  {
   "cell_type": "code",
   "execution_count": 30,
   "metadata": {},
   "outputs": [],
   "source": [
    "# Use this, and more code cells, to explore your data. Don't forget to add\n",
    "#   Markdown cells to document your observations and findings.\n"
   ]
  },
  {
   "cell_type": "markdown",
   "metadata": {},
   "source": [
    "### Research Question 2  (Replace this header name!)"
   ]
  },
  {
   "cell_type": "code",
   "execution_count": 31,
   "metadata": {},
   "outputs": [],
   "source": [
    "# Continue to explore the data to address your additional research\n",
    "#   questions. Add more headers as needed if you have more questions to\n",
    "#   investigate.\n"
   ]
  },
  {
   "cell_type": "markdown",
   "metadata": {},
   "source": [
    "<a id='conclusions'></a>\n",
    "## Conclusions\n",
    "\n",
    "> **Tip**: Finally, summarize your findings and the results that have been performed. Make sure that you are clear with regards to the limitations of your exploration. If you haven't done any statistical tests, do not imply any statistical conclusions. And make sure you avoid implying causation from correlation!\n",
    "\n",
    "> **Tip**: Once you are satisfied with your work, you should save a copy of the report in HTML or PDF form via the **File** > **Download as** submenu. Before exporting your report, check over it to make sure that the flow of the report is complete. You should probably remove all of the \"Tip\" quotes like this one so that the presentation is as tidy as possible. Congratulations!"
   ]
  },
  {
   "cell_type": "code",
   "execution_count": null,
   "metadata": {},
   "outputs": [],
   "source": []
  }
 ],
 "metadata": {
  "kernelspec": {
   "display_name": "Python 3",
   "language": "python",
   "name": "python3"
  },
  "language_info": {
   "codemirror_mode": {
    "name": "ipython",
    "version": 3
   },
   "file_extension": ".py",
   "mimetype": "text/x-python",
   "name": "python",
   "nbconvert_exporter": "python",
   "pygments_lexer": "ipython3",
   "version": "3.7.6"
  }
 },
 "nbformat": 4,
 "nbformat_minor": 2
}
